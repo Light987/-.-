{
 "cells": [
  {
   "cell_type": "markdown",
   "metadata": {},
   "source": [
    "**Проект по SQL**\n",
    "\n",
    "**Описание данных**\n",
    "\n",
    "**Таблица** *books*  \n",
    "Содержит данные о книгах:\n",
    "* book_id — идентификатор книги;\n",
    "* author_id — идентификатор автора;\n",
    "* title — название книги;\n",
    "* num_pages — количество страниц;\n",
    "* publication_date — дата публикации книги;\n",
    "* publisher_id — идентификатор издателя.\n",
    "\n",
    "**Таблица** *authors*  \n",
    "Содержит данные об авторах:\n",
    "* author_id — идентификатор автора;\n",
    "* author — имя автора.\n",
    "\n",
    "**Таблица** *publishers*  \n",
    "Содержит данные об издательствах:\n",
    "* publisher_id — идентификатор издательства;\n",
    "* publisher — название издательства;\n",
    "\n",
    "**Таблица** *ratings*  \n",
    "Содержит данные о пользовательских оценках книг:\n",
    "* rating_id — идентификатор оценки;\n",
    "* book_id — идентификатор книги;\n",
    "* username — имя пользователя, оставившего оценку;\n",
    "* rating — оценка книги.\n",
    "\n",
    "**Таблица** *reviews*  \n",
    "Содержит данные о пользовательских обзорах:\n",
    "* review_id — идентификатор обзора;\n",
    "* book_id — идентификатор книги;\n",
    "* username — имя автора обзора;\n",
    "* text — текст обзора.\n",
    "\n",
    "**Цель**  \n",
    "\n",
    "    Проанализировать базу данных и сформулировать ценностное предложение для нового продукта.\n",
    "\n",
    "**Задачи**  \n",
    "* Посчитать, сколько книг вышло после 1 января 2000 года;\n",
    "* Для каждой книги посчитать количество обзоров и среднюю оценку;\n",
    "* Определить издательство, которое выпустило наибольшее число книг толще 50 страниц — так вы исключите из анализа брошюры;\n",
    "* Определить автора с самой высокой средней оценкой книг — учитывайте только книги с 50 и более оценками;\n",
    "* Посчитать среднее количество обзоров от пользователей, которые поставили больше 50 оценок."
   ]
  },
  {
   "cell_type": "code",
   "execution_count": 1,
   "metadata": {},
   "outputs": [],
   "source": [
    "# импортируем библиотеки\n",
    "import pandas as pd\n",
    "from sqlalchemy import create_engine\n",
    "# устанавливаем параметры\n",
    "db_config = {'user': 'praktikum_student', # имя пользователя\n",
    "             'pwd': 'Sdf4$2;d-d30pp', # пароль\n",
    "             'host': 'rc1b-wcoijxj3yxfsf3fs.mdb.yandexcloud.net',\n",
    "             'port': 6432, # порт подключения\n",
    "             'db': 'data-analyst-final-project-db'} # название базы данных\n",
    "\n",
    "connection_string = 'postgresql://{}:{}@{}:{}/{}'.format(db_config['user'],\n",
    "                                                         db_config['pwd'],\n",
    "                                                         db_config['host'],\n",
    "                                                         db_config['port'],\n",
    "                                                         db_config['db'])\n",
    "\n",
    "# сохраняем коннектор\n",
    "engine = create_engine(connection_string, connect_args={'sslmode':'require'}) "
   ]
  },
  {
   "cell_type": "code",
   "execution_count": 2,
   "metadata": {},
   "outputs": [],
   "source": [
    "# загружаем таблицу books\n",
    "query = '''\n",
    "            SELECT * FROM books\n",
    "        '''\n",
    "\n",
    "books = pd.io.sql.read_sql(query, con = engine)\n",
    "books.name = 'books'"
   ]
  },
  {
   "cell_type": "code",
   "execution_count": 3,
   "metadata": {},
   "outputs": [],
   "source": [
    "# загружаем таблицу authors\n",
    "query = '''\n",
    "            SELECT * FROM authors\n",
    "        '''\n",
    "\n",
    "authors = pd.io.sql.read_sql(query, con = engine)\n",
    "authors.name = 'authors'"
   ]
  },
  {
   "cell_type": "code",
   "execution_count": 4,
   "metadata": {},
   "outputs": [],
   "source": [
    "# загружаем таблицу publishers\n",
    "query = '''\n",
    "            SELECT * FROM publishers\n",
    "        '''\n",
    "\n",
    "publishers = pd.io.sql.read_sql(query, con = engine)\n",
    "publishers.name = 'authors'"
   ]
  },
  {
   "cell_type": "code",
   "execution_count": 5,
   "metadata": {},
   "outputs": [],
   "source": [
    "# загружаем таблицу ratings\n",
    "query = '''\n",
    "            SELECT * FROM ratings\n",
    "        '''\n",
    "\n",
    "ratings = pd.io.sql.read_sql(query, con = engine)\n",
    "ratings.name = 'authors'"
   ]
  },
  {
   "cell_type": "code",
   "execution_count": 6,
   "metadata": {},
   "outputs": [],
   "source": [
    "# загружаем таблицу reviews\n",
    "query = '''\n",
    "            SELECT * FROM reviews\n",
    "        '''\n",
    "\n",
    "reviews = pd.io.sql.read_sql(query, con = engine)\n",
    "reviews.name = 'authors'"
   ]
  },
  {
   "cell_type": "code",
   "execution_count": 7,
   "metadata": {},
   "outputs": [],
   "source": [
    "file_list = [books, authors, publishers, ratings, reviews]"
   ]
  },
  {
   "cell_type": "code",
   "execution_count": 8,
   "metadata": {
    "scrolled": true
   },
   "outputs": [
    {
     "name": "stdout",
     "output_type": "stream",
     "text": [
      "---------------------------------------------------------------------------------------------------- \n",
      "\n",
      "\u001b[1mbooks\u001b[0m\n",
      "\u001b[1mВывод метода info()\u001b[0m\n",
      "<class 'pandas.core.frame.DataFrame'>\n",
      "RangeIndex: 1000 entries, 0 to 999\n",
      "Data columns (total 6 columns):\n",
      "book_id             1000 non-null int64\n",
      "author_id           1000 non-null int64\n",
      "title               1000 non-null object\n",
      "num_pages           1000 non-null int64\n",
      "publication_date    1000 non-null object\n",
      "publisher_id        1000 non-null int64\n",
      "dtypes: int64(4), object(2)\n",
      "memory usage: 47.0+ KB\n"
     ]
    },
    {
     "data": {
      "text/plain": [
       "None"
      ]
     },
     "metadata": {},
     "output_type": "display_data"
    },
    {
     "name": "stdout",
     "output_type": "stream",
     "text": [
      "\u001b[1mВывод метода describe()\u001b[0m\n"
     ]
    },
    {
     "data": {
      "text/html": [
       "<div>\n",
       "<style scoped>\n",
       "    .dataframe tbody tr th:only-of-type {\n",
       "        vertical-align: middle;\n",
       "    }\n",
       "\n",
       "    .dataframe tbody tr th {\n",
       "        vertical-align: top;\n",
       "    }\n",
       "\n",
       "    .dataframe thead th {\n",
       "        text-align: right;\n",
       "    }\n",
       "</style>\n",
       "<table border=\"1\" class=\"dataframe\">\n",
       "  <thead>\n",
       "    <tr style=\"text-align: right;\">\n",
       "      <th></th>\n",
       "      <th>count</th>\n",
       "      <th>mean</th>\n",
       "      <th>std</th>\n",
       "      <th>min</th>\n",
       "      <th>25%</th>\n",
       "      <th>50%</th>\n",
       "      <th>75%</th>\n",
       "      <th>max</th>\n",
       "    </tr>\n",
       "  </thead>\n",
       "  <tbody>\n",
       "    <tr>\n",
       "      <td>book_id</td>\n",
       "      <td>1000.0</td>\n",
       "      <td>500.500</td>\n",
       "      <td>288.819436</td>\n",
       "      <td>1.0</td>\n",
       "      <td>250.75</td>\n",
       "      <td>500.5</td>\n",
       "      <td>750.25</td>\n",
       "      <td>1000.0</td>\n",
       "    </tr>\n",
       "    <tr>\n",
       "      <td>author_id</td>\n",
       "      <td>1000.0</td>\n",
       "      <td>320.417</td>\n",
       "      <td>181.620172</td>\n",
       "      <td>1.0</td>\n",
       "      <td>162.75</td>\n",
       "      <td>316.5</td>\n",
       "      <td>481.00</td>\n",
       "      <td>636.0</td>\n",
       "    </tr>\n",
       "    <tr>\n",
       "      <td>num_pages</td>\n",
       "      <td>1000.0</td>\n",
       "      <td>389.111</td>\n",
       "      <td>229.390140</td>\n",
       "      <td>14.0</td>\n",
       "      <td>249.00</td>\n",
       "      <td>352.0</td>\n",
       "      <td>453.00</td>\n",
       "      <td>2690.0</td>\n",
       "    </tr>\n",
       "    <tr>\n",
       "      <td>publisher_id</td>\n",
       "      <td>1000.0</td>\n",
       "      <td>171.270</td>\n",
       "      <td>99.082685</td>\n",
       "      <td>1.0</td>\n",
       "      <td>83.00</td>\n",
       "      <td>177.5</td>\n",
       "      <td>258.00</td>\n",
       "      <td>340.0</td>\n",
       "    </tr>\n",
       "  </tbody>\n",
       "</table>\n",
       "</div>"
      ],
      "text/plain": [
       "               count     mean         std   min     25%    50%     75%     max\n",
       "book_id       1000.0  500.500  288.819436   1.0  250.75  500.5  750.25  1000.0\n",
       "author_id     1000.0  320.417  181.620172   1.0  162.75  316.5  481.00   636.0\n",
       "num_pages     1000.0  389.111  229.390140  14.0  249.00  352.0  453.00  2690.0\n",
       "publisher_id  1000.0  171.270   99.082685   1.0   83.00  177.5  258.00   340.0"
      ]
     },
     "metadata": {},
     "output_type": "display_data"
    },
    {
     "name": "stdout",
     "output_type": "stream",
     "text": [
      "\u001b[1mВывод метода isna().sum()\u001b[0m\n"
     ]
    },
    {
     "data": {
      "text/plain": [
       "book_id             0\n",
       "author_id           0\n",
       "title               0\n",
       "num_pages           0\n",
       "publication_date    0\n",
       "publisher_id        0\n",
       "dtype: int64"
      ]
     },
     "metadata": {},
     "output_type": "display_data"
    },
    {
     "name": "stdout",
     "output_type": "stream",
     "text": [
      "\u001b[1mВывод метода duplicated().sum()\u001b[0m\n"
     ]
    },
    {
     "data": {
      "text/plain": [
       "0"
      ]
     },
     "metadata": {},
     "output_type": "display_data"
    },
    {
     "name": "stdout",
     "output_type": "stream",
     "text": [
      "\u001b[1mВывод метода sample()\u001b[0m\n"
     ]
    },
    {
     "data": {
      "text/html": [
       "<div>\n",
       "<style scoped>\n",
       "    .dataframe tbody tr th:only-of-type {\n",
       "        vertical-align: middle;\n",
       "    }\n",
       "\n",
       "    .dataframe tbody tr th {\n",
       "        vertical-align: top;\n",
       "    }\n",
       "\n",
       "    .dataframe thead th {\n",
       "        text-align: right;\n",
       "    }\n",
       "</style>\n",
       "<table border=\"1\" class=\"dataframe\">\n",
       "  <thead>\n",
       "    <tr style=\"text-align: right;\">\n",
       "      <th></th>\n",
       "      <th>book_id</th>\n",
       "      <th>author_id</th>\n",
       "      <th>title</th>\n",
       "      <th>num_pages</th>\n",
       "      <th>publication_date</th>\n",
       "      <th>publisher_id</th>\n",
       "    </tr>\n",
       "  </thead>\n",
       "  <tbody>\n",
       "    <tr>\n",
       "      <td>993</td>\n",
       "      <td>994</td>\n",
       "      <td>408</td>\n",
       "      <td>World War Z: An Oral History of the Zombie War</td>\n",
       "      <td>342</td>\n",
       "      <td>2006-09-12</td>\n",
       "      <td>68</td>\n",
       "    </tr>\n",
       "    <tr>\n",
       "      <td>859</td>\n",
       "      <td>860</td>\n",
       "      <td>425</td>\n",
       "      <td>The Scarlet Letter</td>\n",
       "      <td>279</td>\n",
       "      <td>2003-02-27</td>\n",
       "      <td>212</td>\n",
       "    </tr>\n",
       "    <tr>\n",
       "      <td>298</td>\n",
       "      <td>299</td>\n",
       "      <td>236</td>\n",
       "      <td>Harry Potter and the Chamber of Secrets (Harry...</td>\n",
       "      <td>341</td>\n",
       "      <td>1999-06-02</td>\n",
       "      <td>24</td>\n",
       "    </tr>\n",
       "    <tr>\n",
       "      <td>553</td>\n",
       "      <td>554</td>\n",
       "      <td>67</td>\n",
       "      <td>Scott Pilgrim  Volume 1: Scott Pilgrim's Preci...</td>\n",
       "      <td>168</td>\n",
       "      <td>2004-08-18</td>\n",
       "      <td>196</td>\n",
       "    </tr>\n",
       "    <tr>\n",
       "      <td>672</td>\n",
       "      <td>673</td>\n",
       "      <td>235</td>\n",
       "      <td>The Catcher in the Rye</td>\n",
       "      <td>277</td>\n",
       "      <td>2001-01-30</td>\n",
       "      <td>31</td>\n",
       "    </tr>\n",
       "    <tr>\n",
       "      <td>971</td>\n",
       "      <td>972</td>\n",
       "      <td>313</td>\n",
       "      <td>Wherever You Go  There You Are: Mindfulness Me...</td>\n",
       "      <td>304</td>\n",
       "      <td>2005-01-05</td>\n",
       "      <td>122</td>\n",
       "    </tr>\n",
       "    <tr>\n",
       "      <td>27</td>\n",
       "      <td>28</td>\n",
       "      <td>534</td>\n",
       "      <td>A Light in the Attic</td>\n",
       "      <td>176</td>\n",
       "      <td>2002-10-07</td>\n",
       "      <td>146</td>\n",
       "    </tr>\n",
       "    <tr>\n",
       "      <td>231</td>\n",
       "      <td>232</td>\n",
       "      <td>317</td>\n",
       "      <td>Extremely Loud and Incredibly Close</td>\n",
       "      <td>326</td>\n",
       "      <td>2006-04-04</td>\n",
       "      <td>178</td>\n",
       "    </tr>\n",
       "    <tr>\n",
       "      <td>306</td>\n",
       "      <td>307</td>\n",
       "      <td>206</td>\n",
       "      <td>He's Just Not That Into You: The No-Excuses Tr...</td>\n",
       "      <td>208</td>\n",
       "      <td>2006-12-26</td>\n",
       "      <td>111</td>\n",
       "    </tr>\n",
       "    <tr>\n",
       "      <td>706</td>\n",
       "      <td>707</td>\n",
       "      <td>494</td>\n",
       "      <td>The Door to December</td>\n",
       "      <td>518</td>\n",
       "      <td>2002-06-01</td>\n",
       "      <td>46</td>\n",
       "    </tr>\n",
       "  </tbody>\n",
       "</table>\n",
       "</div>"
      ],
      "text/plain": [
       "     book_id  author_id                                              title  \\\n",
       "993      994        408     World War Z: An Oral History of the Zombie War   \n",
       "859      860        425                                 The Scarlet Letter   \n",
       "298      299        236  Harry Potter and the Chamber of Secrets (Harry...   \n",
       "553      554         67  Scott Pilgrim  Volume 1: Scott Pilgrim's Preci...   \n",
       "672      673        235                             The Catcher in the Rye   \n",
       "971      972        313  Wherever You Go  There You Are: Mindfulness Me...   \n",
       "27        28        534                               A Light in the Attic   \n",
       "231      232        317                Extremely Loud and Incredibly Close   \n",
       "306      307        206  He's Just Not That Into You: The No-Excuses Tr...   \n",
       "706      707        494                               The Door to December   \n",
       "\n",
       "     num_pages publication_date  publisher_id  \n",
       "993        342       2006-09-12            68  \n",
       "859        279       2003-02-27           212  \n",
       "298        341       1999-06-02            24  \n",
       "553        168       2004-08-18           196  \n",
       "672        277       2001-01-30            31  \n",
       "971        304       2005-01-05           122  \n",
       "27         176       2002-10-07           146  \n",
       "231        326       2006-04-04           178  \n",
       "306        208       2006-12-26           111  \n",
       "706        518       2002-06-01            46  "
      ]
     },
     "metadata": {},
     "output_type": "display_data"
    },
    {
     "name": "stdout",
     "output_type": "stream",
     "text": [
      "---------------------------------------------------------------------------------------------------- \n",
      "\n",
      "\u001b[1mauthors\u001b[0m\n",
      "\u001b[1mВывод метода info()\u001b[0m\n",
      "<class 'pandas.core.frame.DataFrame'>\n",
      "RangeIndex: 636 entries, 0 to 635\n",
      "Data columns (total 2 columns):\n",
      "author_id    636 non-null int64\n",
      "author       636 non-null object\n",
      "dtypes: int64(1), object(1)\n",
      "memory usage: 10.1+ KB\n"
     ]
    },
    {
     "data": {
      "text/plain": [
       "None"
      ]
     },
     "metadata": {},
     "output_type": "display_data"
    },
    {
     "name": "stdout",
     "output_type": "stream",
     "text": [
      "\u001b[1mВывод метода describe()\u001b[0m\n"
     ]
    },
    {
     "data": {
      "text/html": [
       "<div>\n",
       "<style scoped>\n",
       "    .dataframe tbody tr th:only-of-type {\n",
       "        vertical-align: middle;\n",
       "    }\n",
       "\n",
       "    .dataframe tbody tr th {\n",
       "        vertical-align: top;\n",
       "    }\n",
       "\n",
       "    .dataframe thead th {\n",
       "        text-align: right;\n",
       "    }\n",
       "</style>\n",
       "<table border=\"1\" class=\"dataframe\">\n",
       "  <thead>\n",
       "    <tr style=\"text-align: right;\">\n",
       "      <th></th>\n",
       "      <th>count</th>\n",
       "      <th>mean</th>\n",
       "      <th>std</th>\n",
       "      <th>min</th>\n",
       "      <th>25%</th>\n",
       "      <th>50%</th>\n",
       "      <th>75%</th>\n",
       "      <th>max</th>\n",
       "    </tr>\n",
       "  </thead>\n",
       "  <tbody>\n",
       "    <tr>\n",
       "      <td>author_id</td>\n",
       "      <td>636.0</td>\n",
       "      <td>318.5</td>\n",
       "      <td>183.741666</td>\n",
       "      <td>1.0</td>\n",
       "      <td>159.75</td>\n",
       "      <td>318.5</td>\n",
       "      <td>477.25</td>\n",
       "      <td>636.0</td>\n",
       "    </tr>\n",
       "  </tbody>\n",
       "</table>\n",
       "</div>"
      ],
      "text/plain": [
       "           count   mean         std  min     25%    50%     75%    max\n",
       "author_id  636.0  318.5  183.741666  1.0  159.75  318.5  477.25  636.0"
      ]
     },
     "metadata": {},
     "output_type": "display_data"
    },
    {
     "name": "stdout",
     "output_type": "stream",
     "text": [
      "\u001b[1mВывод метода isna().sum()\u001b[0m\n"
     ]
    },
    {
     "data": {
      "text/plain": [
       "author_id    0\n",
       "author       0\n",
       "dtype: int64"
      ]
     },
     "metadata": {},
     "output_type": "display_data"
    },
    {
     "name": "stdout",
     "output_type": "stream",
     "text": [
      "\u001b[1mВывод метода duplicated().sum()\u001b[0m\n"
     ]
    },
    {
     "data": {
      "text/plain": [
       "0"
      ]
     },
     "metadata": {},
     "output_type": "display_data"
    },
    {
     "name": "stdout",
     "output_type": "stream",
     "text": [
      "\u001b[1mВывод метода sample()\u001b[0m\n"
     ]
    },
    {
     "data": {
      "text/html": [
       "<div>\n",
       "<style scoped>\n",
       "    .dataframe tbody tr th:only-of-type {\n",
       "        vertical-align: middle;\n",
       "    }\n",
       "\n",
       "    .dataframe tbody tr th {\n",
       "        vertical-align: top;\n",
       "    }\n",
       "\n",
       "    .dataframe thead th {\n",
       "        text-align: right;\n",
       "    }\n",
       "</style>\n",
       "<table border=\"1\" class=\"dataframe\">\n",
       "  <thead>\n",
       "    <tr style=\"text-align: right;\">\n",
       "      <th></th>\n",
       "      <th>author_id</th>\n",
       "      <th>author</th>\n",
       "    </tr>\n",
       "  </thead>\n",
       "  <tbody>\n",
       "    <tr>\n",
       "      <td>453</td>\n",
       "      <td>454</td>\n",
       "      <td>Orson Scott Card/Piotr W. Cholewa</td>\n",
       "    </tr>\n",
       "    <tr>\n",
       "      <td>482</td>\n",
       "      <td>483</td>\n",
       "      <td>Primo Levi/Stuart J. Woolf/Philip Roth</td>\n",
       "    </tr>\n",
       "    <tr>\n",
       "      <td>516</td>\n",
       "      <td>517</td>\n",
       "      <td>Rohinton Mistry</td>\n",
       "    </tr>\n",
       "    <tr>\n",
       "      <td>542</td>\n",
       "      <td>543</td>\n",
       "      <td>Stephen King/Bernie Wrightson</td>\n",
       "    </tr>\n",
       "    <tr>\n",
       "      <td>85</td>\n",
       "      <td>86</td>\n",
       "      <td>Charles Dickens/Nicola Bradbury/Hablot Knight ...</td>\n",
       "    </tr>\n",
       "    <tr>\n",
       "      <td>567</td>\n",
       "      <td>568</td>\n",
       "      <td>Teddy Slater/Ron Dias/Ric González</td>\n",
       "    </tr>\n",
       "    <tr>\n",
       "      <td>395</td>\n",
       "      <td>396</td>\n",
       "      <td>Mark Kurlansky</td>\n",
       "    </tr>\n",
       "    <tr>\n",
       "      <td>247</td>\n",
       "      <td>248</td>\n",
       "      <td>James A. Michener</td>\n",
       "    </tr>\n",
       "    <tr>\n",
       "      <td>522</td>\n",
       "      <td>523</td>\n",
       "      <td>Ruth Stiles Gannett</td>\n",
       "    </tr>\n",
       "    <tr>\n",
       "      <td>48</td>\n",
       "      <td>49</td>\n",
       "      <td>Barbara Kingsolver</td>\n",
       "    </tr>\n",
       "  </tbody>\n",
       "</table>\n",
       "</div>"
      ],
      "text/plain": [
       "     author_id                                             author\n",
       "453        454                  Orson Scott Card/Piotr W. Cholewa\n",
       "482        483             Primo Levi/Stuart J. Woolf/Philip Roth\n",
       "516        517                                    Rohinton Mistry\n",
       "542        543                      Stephen King/Bernie Wrightson\n",
       "85          86  Charles Dickens/Nicola Bradbury/Hablot Knight ...\n",
       "567        568                 Teddy Slater/Ron Dias/Ric González\n",
       "395        396                                     Mark Kurlansky\n",
       "247        248                                  James A. Michener\n",
       "522        523                                Ruth Stiles Gannett\n",
       "48          49                                 Barbara Kingsolver"
      ]
     },
     "metadata": {},
     "output_type": "display_data"
    },
    {
     "name": "stdout",
     "output_type": "stream",
     "text": [
      "---------------------------------------------------------------------------------------------------- \n",
      "\n",
      "\u001b[1mauthors\u001b[0m\n",
      "\u001b[1mВывод метода info()\u001b[0m\n",
      "<class 'pandas.core.frame.DataFrame'>\n",
      "RangeIndex: 340 entries, 0 to 339\n",
      "Data columns (total 2 columns):\n",
      "publisher_id    340 non-null int64\n",
      "publisher       340 non-null object\n",
      "dtypes: int64(1), object(1)\n",
      "memory usage: 5.4+ KB\n"
     ]
    },
    {
     "data": {
      "text/plain": [
       "None"
      ]
     },
     "metadata": {},
     "output_type": "display_data"
    },
    {
     "name": "stdout",
     "output_type": "stream",
     "text": [
      "\u001b[1mВывод метода describe()\u001b[0m\n"
     ]
    },
    {
     "data": {
      "text/html": [
       "<div>\n",
       "<style scoped>\n",
       "    .dataframe tbody tr th:only-of-type {\n",
       "        vertical-align: middle;\n",
       "    }\n",
       "\n",
       "    .dataframe tbody tr th {\n",
       "        vertical-align: top;\n",
       "    }\n",
       "\n",
       "    .dataframe thead th {\n",
       "        text-align: right;\n",
       "    }\n",
       "</style>\n",
       "<table border=\"1\" class=\"dataframe\">\n",
       "  <thead>\n",
       "    <tr style=\"text-align: right;\">\n",
       "      <th></th>\n",
       "      <th>count</th>\n",
       "      <th>mean</th>\n",
       "      <th>std</th>\n",
       "      <th>min</th>\n",
       "      <th>25%</th>\n",
       "      <th>50%</th>\n",
       "      <th>75%</th>\n",
       "      <th>max</th>\n",
       "    </tr>\n",
       "  </thead>\n",
       "  <tbody>\n",
       "    <tr>\n",
       "      <td>publisher_id</td>\n",
       "      <td>340.0</td>\n",
       "      <td>170.5</td>\n",
       "      <td>98.293777</td>\n",
       "      <td>1.0</td>\n",
       "      <td>85.75</td>\n",
       "      <td>170.5</td>\n",
       "      <td>255.25</td>\n",
       "      <td>340.0</td>\n",
       "    </tr>\n",
       "  </tbody>\n",
       "</table>\n",
       "</div>"
      ],
      "text/plain": [
       "              count   mean        std  min    25%    50%     75%    max\n",
       "publisher_id  340.0  170.5  98.293777  1.0  85.75  170.5  255.25  340.0"
      ]
     },
     "metadata": {},
     "output_type": "display_data"
    },
    {
     "name": "stdout",
     "output_type": "stream",
     "text": [
      "\u001b[1mВывод метода isna().sum()\u001b[0m\n"
     ]
    },
    {
     "data": {
      "text/plain": [
       "publisher_id    0\n",
       "publisher       0\n",
       "dtype: int64"
      ]
     },
     "metadata": {},
     "output_type": "display_data"
    },
    {
     "name": "stdout",
     "output_type": "stream",
     "text": [
      "\u001b[1mВывод метода duplicated().sum()\u001b[0m\n"
     ]
    },
    {
     "data": {
      "text/plain": [
       "0"
      ]
     },
     "metadata": {},
     "output_type": "display_data"
    },
    {
     "name": "stdout",
     "output_type": "stream",
     "text": [
      "\u001b[1mВывод метода sample()\u001b[0m\n"
     ]
    },
    {
     "data": {
      "text/html": [
       "<div>\n",
       "<style scoped>\n",
       "    .dataframe tbody tr th:only-of-type {\n",
       "        vertical-align: middle;\n",
       "    }\n",
       "\n",
       "    .dataframe tbody tr th {\n",
       "        vertical-align: top;\n",
       "    }\n",
       "\n",
       "    .dataframe thead th {\n",
       "        text-align: right;\n",
       "    }\n",
       "</style>\n",
       "<table border=\"1\" class=\"dataframe\">\n",
       "  <thead>\n",
       "    <tr style=\"text-align: right;\">\n",
       "      <th></th>\n",
       "      <th>publisher_id</th>\n",
       "      <th>publisher</th>\n",
       "    </tr>\n",
       "  </thead>\n",
       "  <tbody>\n",
       "    <tr>\n",
       "      <td>225</td>\n",
       "      <td>226</td>\n",
       "      <td>Plume</td>\n",
       "    </tr>\n",
       "    <tr>\n",
       "      <td>271</td>\n",
       "      <td>272</td>\n",
       "      <td>Simon &amp; Schuster Simon Pulse</td>\n",
       "    </tr>\n",
       "    <tr>\n",
       "      <td>204</td>\n",
       "      <td>205</td>\n",
       "      <td>Pan Childrens</td>\n",
       "    </tr>\n",
       "    <tr>\n",
       "      <td>274</td>\n",
       "      <td>275</td>\n",
       "      <td>Simon Schuster</td>\n",
       "    </tr>\n",
       "    <tr>\n",
       "      <td>299</td>\n",
       "      <td>300</td>\n",
       "      <td>Turtleback</td>\n",
       "    </tr>\n",
       "    <tr>\n",
       "      <td>76</td>\n",
       "      <td>77</td>\n",
       "      <td>Del Rey Books</td>\n",
       "    </tr>\n",
       "    <tr>\n",
       "      <td>15</td>\n",
       "      <td>16</td>\n",
       "      <td>Anchor Books</td>\n",
       "    </tr>\n",
       "    <tr>\n",
       "      <td>278</td>\n",
       "      <td>279</td>\n",
       "      <td>Spectra</td>\n",
       "    </tr>\n",
       "    <tr>\n",
       "      <td>64</td>\n",
       "      <td>65</td>\n",
       "      <td>Corgi</td>\n",
       "    </tr>\n",
       "    <tr>\n",
       "      <td>282</td>\n",
       "      <td>283</td>\n",
       "      <td>St. Martin's Paperbacks</td>\n",
       "    </tr>\n",
       "  </tbody>\n",
       "</table>\n",
       "</div>"
      ],
      "text/plain": [
       "     publisher_id                     publisher\n",
       "225           226                         Plume\n",
       "271           272  Simon & Schuster Simon Pulse\n",
       "204           205                 Pan Childrens\n",
       "274           275                Simon Schuster\n",
       "299           300                    Turtleback\n",
       "76             77                 Del Rey Books\n",
       "15             16                  Anchor Books\n",
       "278           279                       Spectra\n",
       "64             65                         Corgi\n",
       "282           283       St. Martin's Paperbacks"
      ]
     },
     "metadata": {},
     "output_type": "display_data"
    },
    {
     "name": "stdout",
     "output_type": "stream",
     "text": [
      "---------------------------------------------------------------------------------------------------- \n",
      "\n",
      "\u001b[1mauthors\u001b[0m\n",
      "\u001b[1mВывод метода info()\u001b[0m\n",
      "<class 'pandas.core.frame.DataFrame'>\n",
      "RangeIndex: 6456 entries, 0 to 6455\n",
      "Data columns (total 4 columns):\n",
      "rating_id    6456 non-null int64\n",
      "book_id      6456 non-null int64\n",
      "username     6456 non-null object\n",
      "rating       6456 non-null int64\n",
      "dtypes: int64(3), object(1)\n",
      "memory usage: 201.9+ KB\n"
     ]
    },
    {
     "data": {
      "text/plain": [
       "None"
      ]
     },
     "metadata": {},
     "output_type": "display_data"
    },
    {
     "name": "stdout",
     "output_type": "stream",
     "text": [
      "\u001b[1mВывод метода describe()\u001b[0m\n"
     ]
    },
    {
     "data": {
      "text/html": [
       "<div>\n",
       "<style scoped>\n",
       "    .dataframe tbody tr th:only-of-type {\n",
       "        vertical-align: middle;\n",
       "    }\n",
       "\n",
       "    .dataframe tbody tr th {\n",
       "        vertical-align: top;\n",
       "    }\n",
       "\n",
       "    .dataframe thead th {\n",
       "        text-align: right;\n",
       "    }\n",
       "</style>\n",
       "<table border=\"1\" class=\"dataframe\">\n",
       "  <thead>\n",
       "    <tr style=\"text-align: right;\">\n",
       "      <th></th>\n",
       "      <th>count</th>\n",
       "      <th>mean</th>\n",
       "      <th>std</th>\n",
       "      <th>min</th>\n",
       "      <th>25%</th>\n",
       "      <th>50%</th>\n",
       "      <th>75%</th>\n",
       "      <th>max</th>\n",
       "    </tr>\n",
       "  </thead>\n",
       "  <tbody>\n",
       "    <tr>\n",
       "      <td>rating_id</td>\n",
       "      <td>6456.0</td>\n",
       "      <td>3228.500000</td>\n",
       "      <td>1863.831001</td>\n",
       "      <td>1.0</td>\n",
       "      <td>1614.75</td>\n",
       "      <td>3228.5</td>\n",
       "      <td>4842.25</td>\n",
       "      <td>6456.0</td>\n",
       "    </tr>\n",
       "    <tr>\n",
       "      <td>book_id</td>\n",
       "      <td>6456.0</td>\n",
       "      <td>510.574195</td>\n",
       "      <td>284.141636</td>\n",
       "      <td>1.0</td>\n",
       "      <td>291.00</td>\n",
       "      <td>506.0</td>\n",
       "      <td>750.00</td>\n",
       "      <td>1000.0</td>\n",
       "    </tr>\n",
       "    <tr>\n",
       "      <td>rating</td>\n",
       "      <td>6456.0</td>\n",
       "      <td>3.928284</td>\n",
       "      <td>0.943303</td>\n",
       "      <td>1.0</td>\n",
       "      <td>3.00</td>\n",
       "      <td>4.0</td>\n",
       "      <td>5.00</td>\n",
       "      <td>5.0</td>\n",
       "    </tr>\n",
       "  </tbody>\n",
       "</table>\n",
       "</div>"
      ],
      "text/plain": [
       "            count         mean          std  min      25%     50%      75%  \\\n",
       "rating_id  6456.0  3228.500000  1863.831001  1.0  1614.75  3228.5  4842.25   \n",
       "book_id    6456.0   510.574195   284.141636  1.0   291.00   506.0   750.00   \n",
       "rating     6456.0     3.928284     0.943303  1.0     3.00     4.0     5.00   \n",
       "\n",
       "              max  \n",
       "rating_id  6456.0  \n",
       "book_id    1000.0  \n",
       "rating        5.0  "
      ]
     },
     "metadata": {},
     "output_type": "display_data"
    },
    {
     "name": "stdout",
     "output_type": "stream",
     "text": [
      "\u001b[1mВывод метода isna().sum()\u001b[0m\n"
     ]
    },
    {
     "data": {
      "text/plain": [
       "rating_id    0\n",
       "book_id      0\n",
       "username     0\n",
       "rating       0\n",
       "dtype: int64"
      ]
     },
     "metadata": {},
     "output_type": "display_data"
    },
    {
     "name": "stdout",
     "output_type": "stream",
     "text": [
      "\u001b[1mВывод метода duplicated().sum()\u001b[0m\n"
     ]
    },
    {
     "data": {
      "text/plain": [
       "0"
      ]
     },
     "metadata": {},
     "output_type": "display_data"
    },
    {
     "name": "stdout",
     "output_type": "stream",
     "text": [
      "\u001b[1mВывод метода sample()\u001b[0m\n"
     ]
    },
    {
     "data": {
      "text/html": [
       "<div>\n",
       "<style scoped>\n",
       "    .dataframe tbody tr th:only-of-type {\n",
       "        vertical-align: middle;\n",
       "    }\n",
       "\n",
       "    .dataframe tbody tr th {\n",
       "        vertical-align: top;\n",
       "    }\n",
       "\n",
       "    .dataframe thead th {\n",
       "        text-align: right;\n",
       "    }\n",
       "</style>\n",
       "<table border=\"1\" class=\"dataframe\">\n",
       "  <thead>\n",
       "    <tr style=\"text-align: right;\">\n",
       "      <th></th>\n",
       "      <th>rating_id</th>\n",
       "      <th>book_id</th>\n",
       "      <th>username</th>\n",
       "      <th>rating</th>\n",
       "    </tr>\n",
       "  </thead>\n",
       "  <tbody>\n",
       "    <tr>\n",
       "      <td>5434</td>\n",
       "      <td>5435</td>\n",
       "      <td>838</td>\n",
       "      <td>debra43</td>\n",
       "      <td>4</td>\n",
       "    </tr>\n",
       "    <tr>\n",
       "      <td>4215</td>\n",
       "      <td>4216</td>\n",
       "      <td>677</td>\n",
       "      <td>edwardbrown</td>\n",
       "      <td>4</td>\n",
       "    </tr>\n",
       "    <tr>\n",
       "      <td>2232</td>\n",
       "      <td>2233</td>\n",
       "      <td>359</td>\n",
       "      <td>wknight</td>\n",
       "      <td>4</td>\n",
       "    </tr>\n",
       "    <tr>\n",
       "      <td>4583</td>\n",
       "      <td>4584</td>\n",
       "      <td>722</td>\n",
       "      <td>amymckenzie</td>\n",
       "      <td>4</td>\n",
       "    </tr>\n",
       "    <tr>\n",
       "      <td>4312</td>\n",
       "      <td>4313</td>\n",
       "      <td>692</td>\n",
       "      <td>jasongoodman</td>\n",
       "      <td>3</td>\n",
       "    </tr>\n",
       "    <tr>\n",
       "      <td>1008</td>\n",
       "      <td>1009</td>\n",
       "      <td>166</td>\n",
       "      <td>martinyvonne</td>\n",
       "      <td>4</td>\n",
       "    </tr>\n",
       "    <tr>\n",
       "      <td>5634</td>\n",
       "      <td>5635</td>\n",
       "      <td>865</td>\n",
       "      <td>patrickhudson</td>\n",
       "      <td>4</td>\n",
       "    </tr>\n",
       "    <tr>\n",
       "      <td>6433</td>\n",
       "      <td>6434</td>\n",
       "      <td>995</td>\n",
       "      <td>jnelson</td>\n",
       "      <td>4</td>\n",
       "    </tr>\n",
       "    <tr>\n",
       "      <td>4937</td>\n",
       "      <td>4938</td>\n",
       "      <td>759</td>\n",
       "      <td>jessica49</td>\n",
       "      <td>5</td>\n",
       "    </tr>\n",
       "    <tr>\n",
       "      <td>3180</td>\n",
       "      <td>3181</td>\n",
       "      <td>497</td>\n",
       "      <td>robert56</td>\n",
       "      <td>4</td>\n",
       "    </tr>\n",
       "  </tbody>\n",
       "</table>\n",
       "</div>"
      ],
      "text/plain": [
       "      rating_id  book_id       username  rating\n",
       "5434       5435      838        debra43       4\n",
       "4215       4216      677    edwardbrown       4\n",
       "2232       2233      359        wknight       4\n",
       "4583       4584      722    amymckenzie       4\n",
       "4312       4313      692   jasongoodman       3\n",
       "1008       1009      166   martinyvonne       4\n",
       "5634       5635      865  patrickhudson       4\n",
       "6433       6434      995        jnelson       4\n",
       "4937       4938      759      jessica49       5\n",
       "3180       3181      497       robert56       4"
      ]
     },
     "metadata": {},
     "output_type": "display_data"
    },
    {
     "name": "stdout",
     "output_type": "stream",
     "text": [
      "---------------------------------------------------------------------------------------------------- \n",
      "\n",
      "\u001b[1mauthors\u001b[0m\n",
      "\u001b[1mВывод метода info()\u001b[0m\n",
      "<class 'pandas.core.frame.DataFrame'>\n",
      "RangeIndex: 2793 entries, 0 to 2792\n",
      "Data columns (total 4 columns):\n",
      "review_id    2793 non-null int64\n",
      "book_id      2793 non-null int64\n",
      "username     2793 non-null object\n",
      "text         2793 non-null object\n",
      "dtypes: int64(2), object(2)\n",
      "memory usage: 87.4+ KB\n"
     ]
    },
    {
     "data": {
      "text/plain": [
       "None"
      ]
     },
     "metadata": {},
     "output_type": "display_data"
    },
    {
     "name": "stdout",
     "output_type": "stream",
     "text": [
      "\u001b[1mВывод метода describe()\u001b[0m\n"
     ]
    },
    {
     "data": {
      "text/html": [
       "<div>\n",
       "<style scoped>\n",
       "    .dataframe tbody tr th:only-of-type {\n",
       "        vertical-align: middle;\n",
       "    }\n",
       "\n",
       "    .dataframe tbody tr th {\n",
       "        vertical-align: top;\n",
       "    }\n",
       "\n",
       "    .dataframe thead th {\n",
       "        text-align: right;\n",
       "    }\n",
       "</style>\n",
       "<table border=\"1\" class=\"dataframe\">\n",
       "  <thead>\n",
       "    <tr style=\"text-align: right;\">\n",
       "      <th></th>\n",
       "      <th>count</th>\n",
       "      <th>mean</th>\n",
       "      <th>std</th>\n",
       "      <th>min</th>\n",
       "      <th>25%</th>\n",
       "      <th>50%</th>\n",
       "      <th>75%</th>\n",
       "      <th>max</th>\n",
       "    </tr>\n",
       "  </thead>\n",
       "  <tbody>\n",
       "    <tr>\n",
       "      <td>review_id</td>\n",
       "      <td>2793.0</td>\n",
       "      <td>1397.000000</td>\n",
       "      <td>806.413976</td>\n",
       "      <td>1.0</td>\n",
       "      <td>699.0</td>\n",
       "      <td>1397.0</td>\n",
       "      <td>2095.0</td>\n",
       "      <td>2793.0</td>\n",
       "    </tr>\n",
       "    <tr>\n",
       "      <td>book_id</td>\n",
       "      <td>2793.0</td>\n",
       "      <td>504.693161</td>\n",
       "      <td>288.472931</td>\n",
       "      <td>1.0</td>\n",
       "      <td>259.0</td>\n",
       "      <td>505.0</td>\n",
       "      <td>753.0</td>\n",
       "      <td>1000.0</td>\n",
       "    </tr>\n",
       "  </tbody>\n",
       "</table>\n",
       "</div>"
      ],
      "text/plain": [
       "            count         mean         std  min    25%     50%     75%     max\n",
       "review_id  2793.0  1397.000000  806.413976  1.0  699.0  1397.0  2095.0  2793.0\n",
       "book_id    2793.0   504.693161  288.472931  1.0  259.0   505.0   753.0  1000.0"
      ]
     },
     "metadata": {},
     "output_type": "display_data"
    },
    {
     "name": "stdout",
     "output_type": "stream",
     "text": [
      "\u001b[1mВывод метода isna().sum()\u001b[0m\n"
     ]
    },
    {
     "data": {
      "text/plain": [
       "review_id    0\n",
       "book_id      0\n",
       "username     0\n",
       "text         0\n",
       "dtype: int64"
      ]
     },
     "metadata": {},
     "output_type": "display_data"
    },
    {
     "name": "stdout",
     "output_type": "stream",
     "text": [
      "\u001b[1mВывод метода duplicated().sum()\u001b[0m\n"
     ]
    },
    {
     "data": {
      "text/plain": [
       "0"
      ]
     },
     "metadata": {},
     "output_type": "display_data"
    },
    {
     "name": "stdout",
     "output_type": "stream",
     "text": [
      "\u001b[1mВывод метода sample()\u001b[0m\n"
     ]
    },
    {
     "data": {
      "text/html": [
       "<div>\n",
       "<style scoped>\n",
       "    .dataframe tbody tr th:only-of-type {\n",
       "        vertical-align: middle;\n",
       "    }\n",
       "\n",
       "    .dataframe tbody tr th {\n",
       "        vertical-align: top;\n",
       "    }\n",
       "\n",
       "    .dataframe thead th {\n",
       "        text-align: right;\n",
       "    }\n",
       "</style>\n",
       "<table border=\"1\" class=\"dataframe\">\n",
       "  <thead>\n",
       "    <tr style=\"text-align: right;\">\n",
       "      <th></th>\n",
       "      <th>review_id</th>\n",
       "      <th>book_id</th>\n",
       "      <th>username</th>\n",
       "      <th>text</th>\n",
       "    </tr>\n",
       "  </thead>\n",
       "  <tbody>\n",
       "    <tr>\n",
       "      <td>1533</td>\n",
       "      <td>1532</td>\n",
       "      <td>556</td>\n",
       "      <td>roberto26</td>\n",
       "      <td>People floor assume like new knowledge yet. Re...</td>\n",
       "    </tr>\n",
       "    <tr>\n",
       "      <td>2392</td>\n",
       "      <td>2392</td>\n",
       "      <td>860</td>\n",
       "      <td>fharris</td>\n",
       "      <td>Walk would relate worker two because financial...</td>\n",
       "    </tr>\n",
       "    <tr>\n",
       "      <td>502</td>\n",
       "      <td>788</td>\n",
       "      <td>292</td>\n",
       "      <td>nicoleburns</td>\n",
       "      <td>Bag early hotel. Foot fly quality.</td>\n",
       "    </tr>\n",
       "    <tr>\n",
       "      <td>1515</td>\n",
       "      <td>1514</td>\n",
       "      <td>549</td>\n",
       "      <td>ryanfranco</td>\n",
       "      <td>Hit hotel meet through cause standard behind. ...</td>\n",
       "    </tr>\n",
       "    <tr>\n",
       "      <td>1858</td>\n",
       "      <td>1857</td>\n",
       "      <td>674</td>\n",
       "      <td>edwardbrown</td>\n",
       "      <td>Change forward during current. Writer ready po...</td>\n",
       "    </tr>\n",
       "    <tr>\n",
       "      <td>227</td>\n",
       "      <td>226</td>\n",
       "      <td>78</td>\n",
       "      <td>dawn71</td>\n",
       "      <td>Physical federal admit nearly million. Grow ev...</td>\n",
       "    </tr>\n",
       "    <tr>\n",
       "      <td>1513</td>\n",
       "      <td>1512</td>\n",
       "      <td>549</td>\n",
       "      <td>othompson</td>\n",
       "      <td>Gun threat similar. Inside factor road. Town s...</td>\n",
       "    </tr>\n",
       "    <tr>\n",
       "      <td>836</td>\n",
       "      <td>837</td>\n",
       "      <td>306</td>\n",
       "      <td>jeromebowen</td>\n",
       "      <td>Though husband section consider month. Mouth i...</td>\n",
       "    </tr>\n",
       "    <tr>\n",
       "      <td>320</td>\n",
       "      <td>319</td>\n",
       "      <td>111</td>\n",
       "      <td>grantpatricia</td>\n",
       "      <td>Agreement return there picture. Its year page ...</td>\n",
       "    </tr>\n",
       "    <tr>\n",
       "      <td>652</td>\n",
       "      <td>651</td>\n",
       "      <td>241</td>\n",
       "      <td>webbmichelle</td>\n",
       "      <td>Be usually start now. First Democrat amount ap...</td>\n",
       "    </tr>\n",
       "  </tbody>\n",
       "</table>\n",
       "</div>"
      ],
      "text/plain": [
       "      review_id  book_id       username  \\\n",
       "1533       1532      556      roberto26   \n",
       "2392       2392      860        fharris   \n",
       "502         788      292    nicoleburns   \n",
       "1515       1514      549     ryanfranco   \n",
       "1858       1857      674    edwardbrown   \n",
       "227         226       78         dawn71   \n",
       "1513       1512      549      othompson   \n",
       "836         837      306    jeromebowen   \n",
       "320         319      111  grantpatricia   \n",
       "652         651      241   webbmichelle   \n",
       "\n",
       "                                                   text  \n",
       "1533  People floor assume like new knowledge yet. Re...  \n",
       "2392  Walk would relate worker two because financial...  \n",
       "502                  Bag early hotel. Foot fly quality.  \n",
       "1515  Hit hotel meet through cause standard behind. ...  \n",
       "1858  Change forward during current. Writer ready po...  \n",
       "227   Physical federal admit nearly million. Grow ev...  \n",
       "1513  Gun threat similar. Inside factor road. Town s...  \n",
       "836   Though husband section consider month. Mouth i...  \n",
       "320   Agreement return there picture. Its year page ...  \n",
       "652   Be usually start now. First Democrat amount ap...  "
      ]
     },
     "metadata": {},
     "output_type": "display_data"
    }
   ],
   "source": [
    "# функция выводящая общую информацию по каждому файлу\n",
    "def general_info(list):\n",
    "    \n",
    "    for file in file_list:\n",
    "        print('-' * 100, '\\n')\n",
    "        \n",
    "        print ('\\033[1m' + file.name + '\\033[0m')\n",
    "        file.columns = map(str.lower, file.columns)\n",
    "        \n",
    "        print ('\\033[1m' + 'Вывод метода info()' + '\\033[0m')\n",
    "        display(file.info())\n",
    "        \n",
    "        print ('\\033[1m' + 'Вывод метода describe()' + '\\033[0m')\n",
    "        display(file.describe().T)\n",
    "        \n",
    "        print ('\\033[1m' + 'Вывод метода isna().sum()' + '\\033[0m')\n",
    "        display(file.isna().sum())\n",
    "        \n",
    "        print ('\\033[1m' + 'Вывод метода duplicated().sum()' + '\\033[0m')\n",
    "        display(file.duplicated().sum())\n",
    "        \n",
    "        # данный блок исправляет ошибку, которая не позволяет выводит количество строк больше,\n",
    "        # чем количество строк в самом дата фрейме\n",
    "        if file.shape[0] > 10:\n",
    "            print ('\\033[1m' + 'Вывод метода sample()' + '\\033[0m')\n",
    "            display(file.sample(10, random_state=0))\n",
    "        else:\n",
    "            print ('\\033[1m' + 'Вывод метода sample()' + '\\033[0m')\n",
    "            display(file.sample(file.shape[0], random_state=0))\n",
    "\n",
    "        \n",
    "general_info(file_list)"
   ]
  },
  {
   "cell_type": "markdown",
   "metadata": {},
   "source": [
    "**Вывод** \n",
    "* Пропусков нет\n",
    "* Дубликатов нет\n",
    "* Наименования впорядке"
   ]
  },
  {
   "cell_type": "markdown",
   "metadata": {},
   "source": [
    "# Задачи"
   ]
  },
  {
   "cell_type": "markdown",
   "metadata": {},
   "source": [
    "## Посчитать, сколько книг вышло после 1 января 2000 года"
   ]
  },
  {
   "cell_type": "code",
   "execution_count": 9,
   "metadata": {
    "scrolled": true
   },
   "outputs": [
    {
     "name": "stdout",
     "output_type": "stream",
     "text": [
      "C 1 января 2000 года выпущено 821 книг\n"
     ]
    }
   ],
   "source": [
    "query = '''\n",
    "SELECT \n",
    "    COUNT(book_id) \n",
    "FROM \n",
    "    books\n",
    "WHERE \n",
    "    publication_date >= '2000-01-01'\n",
    "'''\n",
    "\n",
    "number_books = pd.io.sql.read_sql(query, con = engine)\n",
    "print('C 1 января 2000 года выпущено {} книг'.format(number_books.loc[:, 'count'][0]))"
   ]
  },
  {
   "cell_type": "markdown",
   "metadata": {},
   "source": [
    "## Для каждой книги посчитать количество обзоров и среднюю оценку"
   ]
  },
  {
   "cell_type": "code",
   "execution_count": 10,
   "metadata": {
    "scrolled": true
   },
   "outputs": [
    {
     "data": {
      "text/html": [
       "<div>\n",
       "<style scoped>\n",
       "    .dataframe tbody tr th:only-of-type {\n",
       "        vertical-align: middle;\n",
       "    }\n",
       "\n",
       "    .dataframe tbody tr th {\n",
       "        vertical-align: top;\n",
       "    }\n",
       "\n",
       "    .dataframe thead th {\n",
       "        text-align: right;\n",
       "    }\n",
       "</style>\n",
       "<table border=\"1\" class=\"dataframe\">\n",
       "  <thead>\n",
       "    <tr style=\"text-align: right;\">\n",
       "      <th></th>\n",
       "      <th>title</th>\n",
       "      <th>reviews_num</th>\n",
       "      <th>avg_rating</th>\n",
       "    </tr>\n",
       "  </thead>\n",
       "  <tbody>\n",
       "    <tr>\n",
       "      <td>0</td>\n",
       "      <td>Twilight (Twilight  #1)</td>\n",
       "      <td>7</td>\n",
       "      <td>3.662500</td>\n",
       "    </tr>\n",
       "    <tr>\n",
       "      <td>1</td>\n",
       "      <td>The Alchemist</td>\n",
       "      <td>6</td>\n",
       "      <td>3.789474</td>\n",
       "    </tr>\n",
       "    <tr>\n",
       "      <td>2</td>\n",
       "      <td>The Da Vinci Code (Robert Langdon  #2)</td>\n",
       "      <td>6</td>\n",
       "      <td>3.830508</td>\n",
       "    </tr>\n",
       "    <tr>\n",
       "      <td>3</td>\n",
       "      <td>The Glass Castle</td>\n",
       "      <td>6</td>\n",
       "      <td>4.206897</td>\n",
       "    </tr>\n",
       "    <tr>\n",
       "      <td>4</td>\n",
       "      <td>The Hobbit  or There and Back Again</td>\n",
       "      <td>6</td>\n",
       "      <td>4.125000</td>\n",
       "    </tr>\n",
       "    <tr>\n",
       "      <td>5</td>\n",
       "      <td>The Road</td>\n",
       "      <td>6</td>\n",
       "      <td>3.772727</td>\n",
       "    </tr>\n",
       "    <tr>\n",
       "      <td>6</td>\n",
       "      <td>Outlander (Outlander  #1)</td>\n",
       "      <td>6</td>\n",
       "      <td>4.125000</td>\n",
       "    </tr>\n",
       "    <tr>\n",
       "      <td>7</td>\n",
       "      <td>The Curious Incident of the Dog in the Night-Time</td>\n",
       "      <td>6</td>\n",
       "      <td>4.081081</td>\n",
       "    </tr>\n",
       "    <tr>\n",
       "      <td>8</td>\n",
       "      <td>Water for Elephants</td>\n",
       "      <td>6</td>\n",
       "      <td>3.977273</td>\n",
       "    </tr>\n",
       "    <tr>\n",
       "      <td>9</td>\n",
       "      <td>Eat  Pray  Love</td>\n",
       "      <td>6</td>\n",
       "      <td>3.395833</td>\n",
       "    </tr>\n",
       "  </tbody>\n",
       "</table>\n",
       "</div>"
      ],
      "text/plain": [
       "                                               title  reviews_num  avg_rating\n",
       "0                            Twilight (Twilight  #1)            7    3.662500\n",
       "1                                      The Alchemist            6    3.789474\n",
       "2             The Da Vinci Code (Robert Langdon  #2)            6    3.830508\n",
       "3                                   The Glass Castle            6    4.206897\n",
       "4                The Hobbit  or There and Back Again            6    4.125000\n",
       "5                                           The Road            6    3.772727\n",
       "6                          Outlander (Outlander  #1)            6    4.125000\n",
       "7  The Curious Incident of the Dog in the Night-Time            6    4.081081\n",
       "8                                Water for Elephants            6    3.977273\n",
       "9                                    Eat  Pray  Love            6    3.395833"
      ]
     },
     "metadata": {},
     "output_type": "display_data"
    }
   ],
   "source": [
    "query = '''\n",
    "SELECT \n",
    "    book.title,\n",
    "    CASE\n",
    "        WHEN review.reviews_num IS NULL THEN 0\n",
    "        ELSE review.reviews_num\n",
    "    END AS reviews_num,\n",
    "    CASE\n",
    "        WHEN rating.avg_rating IS NULL THEN 0\n",
    "        ELSE rating.avg_rating\n",
    "    END AS avg_rating\n",
    "FROM\n",
    "    books book\n",
    "LEFT JOIN \n",
    "    (SELECT\n",
    "        book_id,\n",
    "        COUNT(review_id) reviews_num\n",
    "    FROM \n",
    "        reviews\n",
    "    GROUP BY \n",
    "        book_id\n",
    "    ) AS review ON book.book_id = review.book_id\n",
    "LEFT JOIN \n",
    "    (SELECT\n",
    "        book_id,\n",
    "        AVG(rating :: real) avg_rating\n",
    "    FROM \n",
    "        ratings\n",
    "    GROUP BY \n",
    "        book_id\n",
    "    ) AS rating ON book.book_id = rating.book_id    \n",
    "ORDER BY\n",
    "    reviews_num DESC\n",
    "LIMIT 10\n",
    "'''\n",
    "\n",
    "book_count_mean = pd.io.sql.read_sql(query, con = engine)\n",
    "display(book_count_mean)"
   ]
  },
  {
   "cell_type": "markdown",
   "metadata": {},
   "source": [
    "## Определить издательство, которое выпустило наибольшее число книг толще 50 страниц — так вы исключите из анализа брошюры"
   ]
  },
  {
   "cell_type": "code",
   "execution_count": 11,
   "metadata": {},
   "outputs": [
    {
     "name": "stdout",
     "output_type": "stream",
     "text": [
      "Издательство, которое выпустило наибольшее число книг толще 50 страниц Penguin Books - 42 книги\n"
     ]
    }
   ],
   "source": [
    "query = '''\n",
    "SELECT \n",
    "    publisher.publisher,\n",
    "    CASE\n",
    "        WHEN book.books_num IS NULL THEN 0\n",
    "        ELSE book.books_num\n",
    "    END AS books_num\n",
    "FROM\n",
    "    publishers publisher\n",
    "LEFT JOIN \n",
    "    (SELECT\n",
    "        publisher_id,\n",
    "        COUNT(book_id) books_num\n",
    "    FROM \n",
    "        books\n",
    "    WHERE\n",
    "        num_pages >= 50\n",
    "    GROUP BY \n",
    "        publisher_id\n",
    "    ) AS book ON publisher.publisher_id = book.publisher_id\n",
    "ORDER BY\n",
    "    books_num DESC\n",
    "LIMIT 1\n",
    "'''\n",
    "\n",
    "publisher_max = pd.io.sql.read_sql(query, con = engine)\n",
    "print('Издательство, которое выпустило наибольшее число книг толще 50 страниц {} - {} книги'\n",
    "      .format(publisher_max.loc[:, 'publisher'][0], publisher_max.loc[:, 'books_num'][0]))"
   ]
  },
  {
   "cell_type": "markdown",
   "metadata": {},
   "source": [
    "## Определить автора с самой высокой средней оценкой книг — учитывайте только книги с 50 и более оценками"
   ]
  },
  {
   "cell_type": "code",
   "execution_count": 12,
   "metadata": {},
   "outputs": [
    {
     "name": "stdout",
     "output_type": "stream",
     "text": [
      "Автор с самой высокой средней оценкой книг - J.K. Rowling/Mary GrandPré. Рейтинг 4.28.\n"
     ]
    }
   ],
   "source": [
    "query = '''\n",
    "SELECT \n",
    "    author.author,\n",
    "    AVG(avg_rating) avg_rating\n",
    "FROM\n",
    "    books book\n",
    "INNER JOIN \n",
    "    (SELECT \n",
    "        book_id,\n",
    "        COUNT(rating_id) ratings_num,\n",
    "        AVG(rating) avg_rating\n",
    "    FROM\n",
    "        ratings\n",
    "    GROUP BY\n",
    "        book_id \n",
    "    HAVING \n",
    "        COUNT(rating_id) >= 50\n",
    "    ) AS subq_b ON subq_b.book_id = book.book_id\n",
    "INNER JOIN authors author ON author.author_id = book.author_id\n",
    "GROUP BY\n",
    "    author.author_id,\n",
    "    author.author\n",
    "ORDER BY\n",
    "    avg_rating DESC\n",
    "LIMIT 1\n",
    "'''\n",
    "\n",
    "best_raiting = pd.io.sql.read_sql(query, con = engine)\n",
    "print('Автор с самой высокой средней оценкой книг - {}. Рейтинг {}.'\n",
    "      .format(best_raiting.loc[:, 'author'][0], best_raiting.loc[:, 'avg_rating'][0].round(2)))"
   ]
  },
  {
   "cell_type": "markdown",
   "metadata": {},
   "source": [
    "## Посчитать среднее количество обзоров от пользователей, которые поставили больше 50 оценок"
   ]
  },
  {
   "cell_type": "code",
   "execution_count": 13,
   "metadata": {},
   "outputs": [
    {
     "name": "stdout",
     "output_type": "stream",
     "text": [
      "Среднее количество обзоров от пользователей 24.33.\n"
     ]
    }
   ],
   "source": [
    "query = '''\n",
    "SELECT\n",
    "    AVG(reviews_num)\n",
    "FROM\n",
    "    (SELECT\n",
    "        review.username,\n",
    "        COUNT(*) reviews_num\n",
    "    FROM\n",
    "        reviews review\n",
    "    INNER JOIN \n",
    "        (SELECT \n",
    "            username\n",
    "        FROM\n",
    "            ratings\n",
    "        GROUP BY\n",
    "            username \n",
    "        HAVING \n",
    "            COUNT(rating_id) > 50\n",
    "        ) AS users ON users.username = review.username\n",
    "    GROUP BY\n",
    "        review.username\n",
    "    ) rev\n",
    "'''\n",
    "\n",
    "average_number_reviews = pd.io.sql.read_sql(query, con = engine)\n",
    "print('Среднее количество обзоров от пользователей {}.'\n",
    "      .format(average_number_reviews.loc[:, 'avg'][0].round(2)))"
   ]
  },
  {
   "cell_type": "markdown",
   "metadata": {},
   "source": [
    "**Выводы**\n",
    "\n",
    "* После 1 января 2000 года было выпущено 821 книг\n",
    "* Наибольшее количество обзоров было сделано на книгу Twiligh (7)\n",
    "* Издательство, которое выпустило наибольшее число книг толще 50 страниц Penguin Books\n",
    "* Автор с самой высокой средней оценкой книг - J.K. Rowling/Mary GrandPré. Рейтинг 4.28.\n",
    "* Среднее количество обзоров от пользователей 24.33."
   ]
  }
 ],
  {
   "cell_type": "markdown",
   "metadata": {},
   "source": [
    "Рекомендации:\n",
    "\n",
    "1. Предлагать подписчикам свежие книги;\n",
    "2. Предлагать подписчикам популярные книги, но интересные пользователю;\n",
    "3. Предлагать книги издательств Penguin Books;\n",
    "4. Акцентировать внимание пользователей на книгах авторов J.K. Rowling и Mary GrandPré;\n"
   ]
  }
 ],
 "metadata": {
  "kernelspec": {
   "display_name": "Python 3",
   "language": "python",
   "name": "python3"
  },
  "language_info": {
   "codemirror_mode": {
    "name": "ipython",
    "version": 3
   },
   "file_extension": ".py",
   "mimetype": "text/x-python",
   "name": "python",
   "nbconvert_exporter": "python",
   "pygments_lexer": "ipython3",
   "version": "3.8.8"
  },
  "toc": {
   "base_numbering": 1,
   "nav_menu": {},
   "number_sections": true,
   "sideBar": true,
   "skip_h1_title": false,
   "title_cell": "Table of Contents",
   "title_sidebar": "Contents",
   "toc_cell": false,
   "toc_position": {},
   "toc_section_display": true,
   "toc_window_display": false
  }
 },
 "nbformat": 4,
 "nbformat_minor": 2
}
